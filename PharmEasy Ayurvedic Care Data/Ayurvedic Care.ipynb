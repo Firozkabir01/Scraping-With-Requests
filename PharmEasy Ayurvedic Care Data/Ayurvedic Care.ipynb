{
 "cells": [
  {
   "cell_type": "code",
   "execution_count": null,
   "metadata": {},
   "outputs": [],
   "source": [
    "import requests\n",
    "import pandas as pd\n",
    "\n",
    "class PharmEasyScraper:\n",
    "    def __init__(self, category_id):\n",
    "        self.category_id = category_id\n",
    "        self.url_template = 'https://pharmeasy.in/api/otc/getCategoryProducts'\n",
    "        self.headers = {\n",
    "            'User-Agent': 'Mozilla/5.0 (Windows NT 10.0; Win64; x64) AppleWebKit/537.36 (KHTML, like Gecko) Chrome/110.0.0.0 Safari/537.36'\n",
    "        }\n",
    "\n",
    "    def scrape_products(self, page_num):\n",
    "        url = f'{self.url_template}?categoryId={self.category_id}&page={page_num}'\n",
    "        response = requests.get(url, headers=self.headers)\n",
    "        if response.status_code == 200:\n",
    "            data = response.json()\n",
    "            products = data.get('data', {}).get('products', [])\n",
    "            return products\n",
    "        else:\n",
    "            print(f'Requests failed with status code {response.status_code}')\n",
    "            return []\n",
    "        \n",
    "    def fetch_all_products(self):\n",
    "        all_products = []\n",
    "        for page in range(1, 102):\n",
    "            products = self.scrape_products(page)\n",
    "            if len(products) == 0:\n",
    "                break\n",
    "            all_products.extend(products)\n",
    "        df = pd.DataFrame(all_products)\n",
    "        df.to_csv('resultdata.csv', index = False)\n",
    "    \n",
    "scraper = PharmEasyScraper(10847)\n",
    "scraper.fetch_all_products()"
   ]
  }
 ],
 "metadata": {
  "kernelspec": {
   "display_name": "Python 3",
   "language": "python",
   "name": "python3"
  },
  "language_info": {
   "codemirror_mode": {
    "name": "ipython",
    "version": 3
   },
   "file_extension": ".py",
   "mimetype": "text/x-python",
   "name": "python",
   "nbconvert_exporter": "python",
   "pygments_lexer": "ipython3",
   "version": "3.10.2"
  },
  "orig_nbformat": 4,
  "vscode": {
   "interpreter": {
    "hash": "c977470a9664af4e67ef8092547b96221279e2a3a98320752978a124eb361713"
   }
  }
 },
 "nbformat": 4,
 "nbformat_minor": 2
}
